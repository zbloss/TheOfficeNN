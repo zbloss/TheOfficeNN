{
 "cells": [
  {
   "cell_type": "markdown",
   "metadata": {},
   "source": [
    "# The Office Neural Net\n",
    "## Jupyter Notebook for Exploration"
   ]
  },
  {
   "cell_type": "code",
   "execution_count": 153,
   "metadata": {},
   "outputs": [],
   "source": [
    "import numpy as np\n",
    "import pandas as pd"
   ]
  },
  {
   "cell_type": "markdown",
   "metadata": {},
   "source": [
    "First we load in the dataset and begin the initial data exploration"
   ]
  },
  {
   "cell_type": "code",
   "execution_count": 154,
   "metadata": {},
   "outputs": [],
   "source": [
    "df = pd.read_csv('./data/the-office-lines - scripts.csv')\n",
    "\n",
    "df = df[df['deleted'] == False]"
   ]
  },
  {
   "cell_type": "code",
   "execution_count": 155,
   "metadata": {},
   "outputs": [
    {
     "data": {
      "text/html": [
       "<div>\n",
       "<style scoped>\n",
       "    .dataframe tbody tr th:only-of-type {\n",
       "        vertical-align: middle;\n",
       "    }\n",
       "\n",
       "    .dataframe tbody tr th {\n",
       "        vertical-align: top;\n",
       "    }\n",
       "\n",
       "    .dataframe thead th {\n",
       "        text-align: right;\n",
       "    }\n",
       "</style>\n",
       "<table border=\"1\" class=\"dataframe\">\n",
       "  <thead>\n",
       "    <tr style=\"text-align: right;\">\n",
       "      <th></th>\n",
       "      <th>id</th>\n",
       "      <th>season</th>\n",
       "      <th>episode</th>\n",
       "      <th>scene</th>\n",
       "      <th>line_text</th>\n",
       "      <th>speaker</th>\n",
       "      <th>deleted</th>\n",
       "    </tr>\n",
       "  </thead>\n",
       "  <tbody>\n",
       "    <tr>\n",
       "      <th>0</th>\n",
       "      <td>1</td>\n",
       "      <td>1</td>\n",
       "      <td>1</td>\n",
       "      <td>1</td>\n",
       "      <td>All right Jim. Your quarterlies look very good...</td>\n",
       "      <td>Michael</td>\n",
       "      <td>False</td>\n",
       "    </tr>\n",
       "    <tr>\n",
       "      <th>1</th>\n",
       "      <td>2</td>\n",
       "      <td>1</td>\n",
       "      <td>1</td>\n",
       "      <td>1</td>\n",
       "      <td>Oh, I told you. I couldn't close it. So...</td>\n",
       "      <td>Jim</td>\n",
       "      <td>False</td>\n",
       "    </tr>\n",
       "    <tr>\n",
       "      <th>2</th>\n",
       "      <td>3</td>\n",
       "      <td>1</td>\n",
       "      <td>1</td>\n",
       "      <td>1</td>\n",
       "      <td>So you've come to the master for guidance? Is ...</td>\n",
       "      <td>Michael</td>\n",
       "      <td>False</td>\n",
       "    </tr>\n",
       "    <tr>\n",
       "      <th>3</th>\n",
       "      <td>4</td>\n",
       "      <td>1</td>\n",
       "      <td>1</td>\n",
       "      <td>1</td>\n",
       "      <td>Actually, you called me in here, but yeah.</td>\n",
       "      <td>Jim</td>\n",
       "      <td>False</td>\n",
       "    </tr>\n",
       "    <tr>\n",
       "      <th>4</th>\n",
       "      <td>5</td>\n",
       "      <td>1</td>\n",
       "      <td>1</td>\n",
       "      <td>1</td>\n",
       "      <td>All right. Well, let me show you how it's done.</td>\n",
       "      <td>Michael</td>\n",
       "      <td>False</td>\n",
       "    </tr>\n",
       "  </tbody>\n",
       "</table>\n",
       "</div>"
      ],
      "text/plain": [
       "   id  season  episode  scene  \\\n",
       "0   1       1        1      1   \n",
       "1   2       1        1      1   \n",
       "2   3       1        1      1   \n",
       "3   4       1        1      1   \n",
       "4   5       1        1      1   \n",
       "\n",
       "                                           line_text  speaker  deleted  \n",
       "0  All right Jim. Your quarterlies look very good...  Michael    False  \n",
       "1         Oh, I told you. I couldn't close it. So...      Jim    False  \n",
       "2  So you've come to the master for guidance? Is ...  Michael    False  \n",
       "3         Actually, you called me in here, but yeah.      Jim    False  \n",
       "4    All right. Well, let me show you how it's done.  Michael    False  "
      ]
     },
     "execution_count": 155,
     "metadata": {},
     "output_type": "execute_result"
    }
   ],
   "source": [
    "df.head()"
   ]
  },
  {
   "cell_type": "code",
   "execution_count": 156,
   "metadata": {},
   "outputs": [
    {
     "name": "stdout",
     "output_type": "stream",
     "text": [
      "<class 'pandas.core.frame.DataFrame'>\n",
      "Int64Index: 57973 entries, 0 to 59908\n",
      "Data columns (total 7 columns):\n",
      "id           57973 non-null int64\n",
      "season       57973 non-null int64\n",
      "episode      57973 non-null int64\n",
      "scene        57973 non-null int64\n",
      "line_text    57973 non-null object\n",
      "speaker      57973 non-null object\n",
      "deleted      57973 non-null bool\n",
      "dtypes: bool(1), int64(4), object(2)\n",
      "memory usage: 3.2+ MB\n"
     ]
    }
   ],
   "source": [
    "df.info()"
   ]
  },
  {
   "cell_type": "markdown",
   "metadata": {},
   "source": [
    "It makes sense that the dataset is organized by Season -> Episode -> Scene -> Speaker -> Line\n",
    "but it is not laid out that way, so a simple reindex is in order"
   ]
  },
  {
   "cell_type": "code",
   "execution_count": 157,
   "metadata": {},
   "outputs": [],
   "source": [
    "columnsTitles=[\"id\", \"season\", \"episode\", \"scene\", \"speaker\", \"line_text\", \"deleted\"]\n",
    "df=df.reindex(columns=columnsTitles)"
   ]
  },
  {
   "cell_type": "code",
   "execution_count": 158,
   "metadata": {},
   "outputs": [
    {
     "data": {
      "text/html": [
       "<div>\n",
       "<style scoped>\n",
       "    .dataframe tbody tr th:only-of-type {\n",
       "        vertical-align: middle;\n",
       "    }\n",
       "\n",
       "    .dataframe tbody tr th {\n",
       "        vertical-align: top;\n",
       "    }\n",
       "\n",
       "    .dataframe thead th {\n",
       "        text-align: right;\n",
       "    }\n",
       "</style>\n",
       "<table border=\"1\" class=\"dataframe\">\n",
       "  <thead>\n",
       "    <tr style=\"text-align: right;\">\n",
       "      <th></th>\n",
       "      <th>id</th>\n",
       "      <th>season</th>\n",
       "      <th>episode</th>\n",
       "      <th>scene</th>\n",
       "      <th>speaker</th>\n",
       "      <th>line_text</th>\n",
       "      <th>deleted</th>\n",
       "    </tr>\n",
       "  </thead>\n",
       "  <tbody>\n",
       "    <tr>\n",
       "      <th>0</th>\n",
       "      <td>1</td>\n",
       "      <td>1</td>\n",
       "      <td>1</td>\n",
       "      <td>1</td>\n",
       "      <td>Michael</td>\n",
       "      <td>All right Jim. Your quarterlies look very good...</td>\n",
       "      <td>False</td>\n",
       "    </tr>\n",
       "    <tr>\n",
       "      <th>1</th>\n",
       "      <td>2</td>\n",
       "      <td>1</td>\n",
       "      <td>1</td>\n",
       "      <td>1</td>\n",
       "      <td>Jim</td>\n",
       "      <td>Oh, I told you. I couldn't close it. So...</td>\n",
       "      <td>False</td>\n",
       "    </tr>\n",
       "    <tr>\n",
       "      <th>2</th>\n",
       "      <td>3</td>\n",
       "      <td>1</td>\n",
       "      <td>1</td>\n",
       "      <td>1</td>\n",
       "      <td>Michael</td>\n",
       "      <td>So you've come to the master for guidance? Is ...</td>\n",
       "      <td>False</td>\n",
       "    </tr>\n",
       "    <tr>\n",
       "      <th>3</th>\n",
       "      <td>4</td>\n",
       "      <td>1</td>\n",
       "      <td>1</td>\n",
       "      <td>1</td>\n",
       "      <td>Jim</td>\n",
       "      <td>Actually, you called me in here, but yeah.</td>\n",
       "      <td>False</td>\n",
       "    </tr>\n",
       "    <tr>\n",
       "      <th>4</th>\n",
       "      <td>5</td>\n",
       "      <td>1</td>\n",
       "      <td>1</td>\n",
       "      <td>1</td>\n",
       "      <td>Michael</td>\n",
       "      <td>All right. Well, let me show you how it's done.</td>\n",
       "      <td>False</td>\n",
       "    </tr>\n",
       "    <tr>\n",
       "      <th>5</th>\n",
       "      <td>6</td>\n",
       "      <td>1</td>\n",
       "      <td>1</td>\n",
       "      <td>2</td>\n",
       "      <td>Michael</td>\n",
       "      <td>[on the phone] Yes, I'd like to speak to your ...</td>\n",
       "      <td>False</td>\n",
       "    </tr>\n",
       "    <tr>\n",
       "      <th>6</th>\n",
       "      <td>7</td>\n",
       "      <td>1</td>\n",
       "      <td>1</td>\n",
       "      <td>3</td>\n",
       "      <td>Michael</td>\n",
       "      <td>I've, uh, I've been at Dunder Mifflin for 12 y...</td>\n",
       "      <td>False</td>\n",
       "    </tr>\n",
       "    <tr>\n",
       "      <th>7</th>\n",
       "      <td>8</td>\n",
       "      <td>1</td>\n",
       "      <td>1</td>\n",
       "      <td>3</td>\n",
       "      <td>Pam</td>\n",
       "      <td>Well. I don't know.</td>\n",
       "      <td>False</td>\n",
       "    </tr>\n",
       "    <tr>\n",
       "      <th>8</th>\n",
       "      <td>9</td>\n",
       "      <td>1</td>\n",
       "      <td>1</td>\n",
       "      <td>3</td>\n",
       "      <td>Michael</td>\n",
       "      <td>If you think she's cute now, you should have s...</td>\n",
       "      <td>False</td>\n",
       "    </tr>\n",
       "    <tr>\n",
       "      <th>9</th>\n",
       "      <td>10</td>\n",
       "      <td>1</td>\n",
       "      <td>1</td>\n",
       "      <td>3</td>\n",
       "      <td>Pam</td>\n",
       "      <td>What?</td>\n",
       "      <td>False</td>\n",
       "    </tr>\n",
       "  </tbody>\n",
       "</table>\n",
       "</div>"
      ],
      "text/plain": [
       "   id  season  episode  scene  speaker  \\\n",
       "0   1       1        1      1  Michael   \n",
       "1   2       1        1      1      Jim   \n",
       "2   3       1        1      1  Michael   \n",
       "3   4       1        1      1      Jim   \n",
       "4   5       1        1      1  Michael   \n",
       "5   6       1        1      2  Michael   \n",
       "6   7       1        1      3  Michael   \n",
       "7   8       1        1      3      Pam   \n",
       "8   9       1        1      3  Michael   \n",
       "9  10       1        1      3      Pam   \n",
       "\n",
       "                                           line_text  deleted  \n",
       "0  All right Jim. Your quarterlies look very good...    False  \n",
       "1         Oh, I told you. I couldn't close it. So...    False  \n",
       "2  So you've come to the master for guidance? Is ...    False  \n",
       "3         Actually, you called me in here, but yeah.    False  \n",
       "4    All right. Well, let me show you how it's done.    False  \n",
       "5  [on the phone] Yes, I'd like to speak to your ...    False  \n",
       "6  I've, uh, I've been at Dunder Mifflin for 12 y...    False  \n",
       "7                                Well. I don't know.    False  \n",
       "8  If you think she's cute now, you should have s...    False  \n",
       "9                                              What?    False  "
      ]
     },
     "execution_count": 158,
     "metadata": {},
     "output_type": "execute_result"
    }
   ],
   "source": [
    "df.head(10)"
   ]
  },
  {
   "cell_type": "markdown",
   "metadata": {},
   "source": [
    "## Viz\n",
    "\n",
    "Data exploration is crucial, and providing visuals is often insightful"
   ]
  },
  {
   "cell_type": "code",
   "execution_count": 159,
   "metadata": {},
   "outputs": [
    {
     "data": {
      "image/png": "[encoded data removed]",
      "text/plain": [
       "<Figure size 576x72 with 1 Axes>"
      ]
     },
     "metadata": {},
     "output_type": "display_data"
    }
   ],
   "source": [
    "import matplotlib.pyplot as plt\n",
    "import seaborn as sns\n",
    "sns.set_style(\"darkgrid\")\n",
    "cmap = sns.palplot(sns.cubehelix_palette(8))"
   ]
  },
  {
   "cell_type": "markdown",
   "metadata": {},
   "source": [
    "I want to see how many lines of text there are per season. Here we can begin to get an idea of which seasons may have the most influence on our Neural Net"
   ]
  },
  {
   "cell_type": "code",
   "execution_count": 160,
   "metadata": {},
   "outputs": [
    {
     "data": {
      "text/plain": [
       "<matplotlib.axes._subplots.AxesSubplot at 0x2ab13ea8e10>"
      ]
     },
     "execution_count": 160,
     "metadata": {},
     "output_type": "execute_result"
    },
    {
     "data": {
      "image/png": "[encoded data removed]",
      "text/plain": [
       "<Figure size 1152x648 with 1 Axes>"
      ]
     },
     "metadata": {},
     "output_type": "display_data"
    }
   ],
   "source": [
    "plt.figure(figsize=(16,9))\n",
    "plt.title('Number of Lines per Season')\n",
    "sns.countplot(x=df['season'], palette=\"Greens\")"
   ]
  },
  {
   "cell_type": "markdown",
   "metadata": {},
   "source": [
    "We see Season 1 has the fewest lines by far, and we see a dip in season 4. Season 1 being so low makes sense\n",
    " as there were only 6 episodes in season 1."
   ]
  },
  {
   "cell_type": "code",
   "execution_count": 161,
   "metadata": {},
   "outputs": [
    {
     "data": {
      "image/png": "[encoded data removed]",
      "text/plain": [
       "<Figure size 1152x648 with 1 Axes>"
      ]
     },
     "metadata": {},
     "output_type": "display_data"
    }
   ],
   "source": [
    "plt.figure(figsize=(16,9))\n",
    "plt.xlabel('season', fontsize=16)\n",
    "plt.ylabel('line_text', fontsize=16)\n",
    "plt.title(s='Avg. Number of Lines per Season', fontsize=24)\n",
    "sns.barplot(x='season', y=df['line_text'].apply(len), data=df, palette=\"Greens\")\n",
    "plt.savefig('./viz/lines_per_season.png')\n",
    "plt.show()"
   ]
  },
  {
   "cell_type": "markdown",
   "metadata": {},
   "source": [
    "Here we can see that season one actually has the most dialogue on average, and season 4 is not that far behind. Let's see how many episodes there are per season"
   ]
  },
  {
   "cell_type": "code",
   "execution_count": null,
   "metadata": {},
   "outputs": [],
   "source": []
  },
  {
   "cell_type": "code",
   "execution_count": null,
   "metadata": {},
   "outputs": [],
   "source": []
  },
  {
   "cell_type": "code",
   "execution_count": null,
   "metadata": {},
   "outputs": [],
   "source": []
  },
  {
   "cell_type": "code",
   "execution_count": 162,
   "metadata": {},
   "outputs": [
    {
     "data": {
      "image/png": "[encoded data removed]",
      "text/plain": [
       "<Figure size 1152x648 with 1 Axes>"
      ]
     },
     "metadata": {},
     "output_type": "display_data"
    }
   ],
   "source": [
    "# creating a dictionary of {key, value} = {season, '# of episodes'}\n",
    "\n",
    "epi_sea = {}\n",
    "for season in df.season.unique():\n",
    "    epi_sea[season] = df[df['season'] == season]['episode'].nunique()\n",
    "\n",
    "\n",
    "plt.figure(figsize=(16,9))\n",
    "plt.xlabel('season', fontsize=16)\n",
    "plt.ylabel('episodes', fontsize=16)\n",
    "plt.title(s='Number of Episodes per Season', fontsize=24)\n",
    "sns.barplot(x=list(epi_sea.keys()), y=list(epi_sea.values()), palette=\"Greens\")\n",
    "plt.savefig('./viz/episodes_per_season.png')\n",
    "plt.show()"
   ]
  },
  {
   "cell_type": "markdown",
   "metadata": {},
   "source": [
    "### Now we can see why there was a drop off in lines for season 4, there were only 14 episodes!"
   ]
  },
  {
   "cell_type": "markdown",
   "metadata": {},
   "source": [
    "Now there is no line more famous in the show, than \"That's what she said\".\n",
    "Let's see exactly how often it is said, when it is said, and who says it"
   ]
  },
  {
   "cell_type": "code",
   "execution_count": 163,
   "metadata": {},
   "outputs": [
    {
     "name": "stdout",
     "output_type": "stream",
     "text": [
      "TWSS at: S2E2Sc24 - Michael\n",
      "TWSS at: S2E2Sc34 - Jim\n",
      "TWSS at: S2E2Sc34 - Michael\n",
      "TWSS at: S2E10Sc2 - Michael\n",
      "TWSS at: S2E12Sc33 - Dwight\n",
      "TWSS at: S2E17Sc6 - Michael\n",
      "TWSS at: S2E21Sc22 - Michael\n",
      "TWSS at: S3E1Sc49 - Michael\n",
      "TWSS at: S3E5Sc59 - Stanley\n",
      "TWSS at: S3E10Sc49 - Michael\n",
      "TWSS at: S3E12Sc41 - Dwight\n",
      "TWSS at: S3E17Sc9 - Michael\n",
      "TWSS at: S3E17Sc23 - Jan\n",
      "TWSS at: S3E20Sc11 - Michael\n",
      "TWSS at: S3E22Sc68 - Everyone\n",
      "TWSS at: S4E2Sc6 - Michael\n",
      "TWSS at: S4E4Sc45 - Michael\n",
      "TWSS at: S4E7Sc56 - Michael\n",
      "TWSS at: S4E7Sc56 - Jim\n",
      "TWSS at: S4E8Sc23 - Michael\n",
      "TWSS at: S4E8Sc23 - Michael\n",
      "TWSS at: S4E8Sc23 - Michael\n",
      "TWSS at: S4E8Sc23 - Deposition Reporter\n",
      "TWSS at: S4E9Sc19 - Michael\n",
      "TWSS at: S4E12Sc2 - Michael\n",
      "TWSS at: S5E1Sc111 - Michael\n",
      "TWSS at: S5E4Sc30 - Michael\n",
      "TWSS at: S5E5Sc25 - Michael\n",
      "TWSS at: S5E6Sc27 - Pam\n",
      "TWSS at: S5E17Sc27 - Dwight\n",
      "TWSS at: S6E18Sc9 - Michael\n",
      "TWSS at: S7E8Sc29 - Michael\n",
      "TWSS at: S7E13Sc1 - David\n",
      "TWSS at: S7E15Sc30 - Holly\n",
      "TWSS at: S7E21Sc51 - Michael\n",
      "TWSS at: S9E5Sc29 - Creed\n"
     ]
    }
   ],
   "source": [
    "twss_list = []\n",
    "\n",
    "for i in range(len(df['line_text'])):\n",
    "    twss = \"that\\'s what she said\"\n",
    "    if twss in df['line_text'].iloc[i].lower():\n",
    "        print(\"TWSS at: S{}E{}Sc{} - {}\".format(df['season'].iloc[i], df['episode'].iloc[i], df['scene'].iloc[i], df['speaker'].iloc[i]))\n",
    "        \n",
    "        twss_list.append(df['speaker'].iloc[i])"
   ]
  },
  {
   "cell_type": "markdown",
   "metadata": {},
   "source": [
    "Let's count how many times each speaker says the famous line!\n",
    "\n",
    "Below I'm looping through the list of unique speakers in the show that said TWSS and counting how many times they said it. I store this in a dictionary (twss_dict) and plot it below"
   ]
  },
  {
   "cell_type": "code",
   "execution_count": null,
   "metadata": {
    "scrolled": true
   },
   "outputs": [],
   "source": []
  },
  {
   "cell_type": "markdown",
   "metadata": {},
   "source": [
    "Whoops! It looks like we have some lines that spilled over into our speaker columns"
   ]
  },
  {
   "cell_type": "code",
   "execution_count": 164,
   "metadata": {},
   "outputs": [],
   "source": [
    "twss_dict = {}\n",
    "for speaker in set(twss_list):\n",
    "    sp_counter = 0\n",
    "    for i in range(len(df['line_text'])):\n",
    "        twss = \"that\\'s what she said\"\n",
    "        if twss in (df['line_text'].iloc[i].lower()) and (df['speaker'].iloc[i] == sp):\n",
    "            sp_counter += 1\n",
    "            twss_dict[sp] = sp_counter"
   ]
  },
  {
   "cell_type": "code",
   "execution_count": 165,
   "metadata": {},
   "outputs": [],
   "source": [
    "for ent in twss_dict:\n",
    "    print('{} - {}'.format(ent, twss_dict[ent]))"
   ]
  },
  {
   "cell_type": "code",
   "execution_count": 166,
   "metadata": {},
   "outputs": [
    {
     "data": {
      "image/png": "[encoded data removed]",
      "text/plain": [
       "<Figure size 1152x648 with 1 Axes>"
      ]
     },
     "metadata": {},
     "output_type": "display_data"
    }
   ],
   "source": [
    "plt.figure(figsize=(16,9))\n",
    "plt.xlabel('speaker', fontsize=16)\n",
    "plt.ylabel('twss', fontsize=16)\n",
    "plt.title(s='Number of TWSS per Speaker', fontsize=24)\n",
    "sns.countplot(x=twss_list, palette=\"Greens\")\n",
    "plt.savefig('./viz/twss_per_speaker.png')\n",
    "plt.show()"
   ]
  },
  {
   "cell_type": "markdown",
   "metadata": {},
   "source": [
    "We can clearly see, Michael owns the phrase"
   ]
  },
  {
   "cell_type": "code",
   "execution_count": null,
   "metadata": {},
   "outputs": [],
   "source": []
  },
  {
   "cell_type": "code",
   "execution_count": 168,
   "metadata": {},
   "outputs": [
    {
     "data": {
      "text/plain": [
       "array(['Michael', 'Jim', 'Pam', 'Dwight', 'Jan', 'Michel', 'Todd Packer',\n",
       "       'Phyllis', 'Stanley', 'Oscar', 'Angela', 'Kevin', 'Ryan', 'Man',\n",
       "       'Roy', 'Mr. Brown', 'Toby', 'Kelly', 'Meredith', 'Travel Agent',\n",
       "       'Man on Phone', 'Everybody', 'Lonny', 'Darryl', 'Teammates',\n",
       "       'Michael and Dwight', 'Warehouse worker', 'Madge', 'Worker',\n",
       "       'Warehouse Worker', 'Katy', 'Guy at bar', 'Other Guy at Bar',\n",
       "       'Guy At Bar', 'Pam and Jim', 'Employee', \"Chili's Employee\",\n",
       "       \"Kevin's computer\", 'Warehouse Guy', 'Warehouse guy',\n",
       "       'Warehouse guys', 'Video', 'Man in Video', 'Actor',\n",
       "       'Redheaded Actress', \"Mr. O'Malley\", 'Albiny', \"Pam's Mom\",\n",
       "       'Carol', 'Bill', 'Everyone', 'Crowd', 'song', 'Song',\n",
       "       'Dwight and Michael', 'Sherri', 'Creed', 'Devon', 'Children',\n",
       "       'Kid', 'Hank the Security Guard', 'Ira', \"Ryan's Voicemail\",\n",
       "       'Master', 'Christian', 'Hostess', 'Michael and Christian',\n",
       "       'Sadiq (IT guy)', 'Mark', 'Improv Teacher', 'Mary-Beth',\n",
       "       'Girl acting Pregnant', 'Actress', 'Michael and Jim',\n",
       "       'Kevin & Oscar', 'All', 'Liquor Store Clerk', 'JIm', 'Bob Vance',\n",
       "       'Phyllis, Meredith, Michael, Kevin', 'Captain Jack', 'Brenda',\n",
       "       'Darryl and Katy', 'Jim and Pam', 'Billy Merchant', 'Doctor',\n",
       "       'Lab Tech', 'Dana', \"Hooter's Girls\", 'Phylis', 'Gil',\n",
       "       'Pam and others', 'Ed', 'Packer', 'Todd', \"Jim's voicemail\",\n",
       "       'Women', 'Guy', 'Men', 'Group chant', 'All the Men',\n",
       "       'Delivery man', 'Craig', 'Josh', 'David', 'Dan', 'Overhead',\n",
       "       'Speaker', 'Jim and Dwight', 'Melissa', 'Sasha', 'Abby', 'Jake',\n",
       "       'The Kids', 'Kids', 'Miss Trudy', 'Edward R. Meow', 'Chet',\n",
       "       'Young Michael', 'Delivery Woman', 'Delivery Boy', 'Office Staff',\n",
       "       'Store Employee', 'Pam/Jim', 'Linda', 'Hank', 'I.D. Photographer',\n",
       "       'Photographer', 'Anglea', 'Female worker', \"Billy's Girlfriend\",\n",
       "       'Billy', 'Dealer', 'Bob', 'Andy', 'Karen', 'Jerome Bettis', 'Ted',\n",
       "       'Waiter', 'Jim, Josh, and Dwight', 'Evan', 'Alan',\n",
       "       'Ryan and others', 'Hannah', 'Announcer', 'Pretzel guy',\n",
       "       'Cousin Mose', 'Tony', 'Server', 'Girls', \"Kelly's Mom\",\n",
       "       \"Kelly's Father\", 'Young Man', 'Andy and Jim', 'Mrs. Kapoor',\n",
       "       'Mr. Kapoor', 'Dwight ', 'M ichael', 'Michael ', 'Dwight:',\n",
       "       'Martin', 'Male voice', 'Michael & Dwight', 'Andy & Michael',\n",
       "       'Waitress', 'Chef', 'Woman at bar', 'Cindy', 'Second Cindy',\n",
       "       'Other waitress', 'Andy and Michael', 'Both', 'Someone', 'Harvey',\n",
       "       'Buyer', 'Kenny', 'Julius', 'Phone', 'Staples Guy', 'MIchael',\n",
       "       'Lady', 'Paris', 'Marcy', 'Ben Franklin', 'Elizabeth', 'Priest',\n",
       "       'Uncle Al', 'Randy', 'Unknown', 'College Student',\n",
       "       'Business Student #1', 'Business Student #2',\n",
       "       'Business Student #3', 'Woman', 'Artist', 'Student 1', 'Student 2',\n",
       "       'Student 3', 'Rachel', 'Dan Gore', 'Bartender', 'Child', 'Hunter',\n",
       "       'Darry', 'Micheal', 'Larry', 'Chad Lite', 'Jamie', 'Barbara',\n",
       "       'School Official', 'Barbara Allen', 'Spanish Teacher', 'Denise',\n",
       "       'Group', 'Receptionist', 'IT Tech Guy', 'Nurse', 'Intern',\n",
       "       'Pediatrician', 'Robert Dunder', 'Amy', 'GPS', 'Larry Myers',\n",
       "       'Ex-client', 'Voice of Thomas Dean', 'sAndy', 'DunMiff/sys',\n",
       "       'DwightKSchrute', 'Tech Guy', 'Angels', 'Pizza guy', 'Manager',\n",
       "       'Voice #1 on phone', 'Voice #2 on phone', 'Micahel', 'Michae',\n",
       "       'Nick', 'Mose', 'Co-Worker 1', 'Stanely', 'Micael', 'Vikram',\n",
       "       'Co-Worker 2', 'Co-Worker 3', 'Mr. Figaro', 'Oscar and Stanley',\n",
       "       'Ad guy 1', 'Ad guy 2', 'David Wallace',\n",
       "       'Andy, Creed, Kevin, Kelly, Darryl', 'Andy, Creed, Kevin, Kelly',\n",
       "       \"Michael's Ad\", 'Rolando', 'Ben', 'Security guard', 'Lester',\n",
       "       'Diane Kelly', 'Diane', 'Deposition Reporter', 'Council',\n",
       "       \"Hunter's CD\", 'Officer 1', 'Officer 2', 'Officer', 'Neighbor',\n",
       "       \"Wendy's phone operator\", 'Margaret', 'Coffee shop worker',\n",
       "       'Jan [on phone]', 'W.B. Jones', 'Paul Faust', 'Bill Cress', 'Paul',\n",
       "       'Michael/Dwight', 'Troy', 'Girl in Club', 'Tall Girl #1',\n",
       "       'All Girls', 'Tall Girl #2', 'Girl in 2nd club', 'Cleaning lady',\n",
       "       'Michael and Darryl', 'Phil Maguire', 'Phil', 'Justin',\n",
       "       'Angela and Dwight', 'Maguire', 'Woman on mic', 'Graphics guy',\n",
       "       'Brad', 'Air Force recruiter', 'Holly', 'Woman over speakerphone',\n",
       "       'Vance Refrigeration guy', 'Holy', 'Co-workers', 'Ronnie',\n",
       "       'Professor', 'Friend', 'JIM9334 [screen name]',\n",
       "       'Receptionitis15 [screen name]', 'JIM9334', 'Receptionitis15',\n",
       "       'Michael & Holly', 'Dight', 'Kendall', 'Michael [on phone]',\n",
       "       'Pam [on phone]', 'Man on phone', 'Hank [the security guard]',\n",
       "       'Guy in audience', 'Michael and Holly',\n",
       "       'Michael, Holly, and Darryl', 'Tom', 'Pete', 'Holly & Darryl',\n",
       "       'Holly & Michael', 'Mother', 'Alex', 'Customer', 'Kevin & Andy',\n",
       "       'Stanley & Phyllis', 'Stewardess', 'Beth', 'Concierge', 'Marie',\n",
       "       'Guy at table', 'Concierge Marie', 'Client', 'Dacvid Walalce',\n",
       "       'David Wallcve', 'Dacvid Wallace', 'Leo',\n",
       "       'Vance Refrigeration Guy', 'Police Officer 1', 'Police Officer 2',\n",
       "       'Guy buying doll', 'Rehab Nurse', 'Everyone watching',\n",
       "       'Entire Prince family', 'Prince Grandfather', 'Entire office',\n",
       "       'Jim ', 'Prince', 'Prince Granddaughter', 'Prince Grandmother',\n",
       "       'Prince Son', 'Phyllis and Creed', 'Lawyer', 'CPR trainer',\n",
       "       'CPR Trainer', 'Rose', 'Jessica Alba', 'Lily', 'Sam',\n",
       "       'Warehouse Michael', 'Julia', 'A.J.', 'Phone Salesman',\n",
       "       'Jim, Pam, Michael and Dwight', 'Blood Drive Worker', 'Blood Girl',\n",
       "       'Lynn', 'Blonde', 'Eric', 'Girl', 'Charles', 'Stephanie',\n",
       "       'Employees', 'Isaac', 'Angela and Kelly', 'Supervisor', 'Michal',\n",
       "       'Nana', 'Chares', 'Old Woman', 'Erin', 'Dwight and Erin',\n",
       "       'Dwight and Andy', 'Michael, Pam & Ryan', 'Secretary',\n",
       "       'Automated phone voice', 'Mr. Schofield', 'Financial Guy', 'Ty',\n",
       "       'Jessica', 'Vance Refrigeration Guy 1',\n",
       "       'Vance Refrigeration Guy 2', 'VRG 1', 'VRG 2', 'Rolph', 'AJ',\n",
       "       'Man from Buffalo', 'Woman from Buffalo', 'Dwight & Andy',\n",
       "       'Female Intern', 'Female intern', 'Maurie', 'Dwight, Jim & Pam',\n",
       "       'Jim & Pam', 'Megan', 'Gwenneth', 'Front Desk Clerk',\n",
       "       'Mr. Halpert', 'Mema', 'Mr. Beesly', 'Little Girl', 'Penny',\n",
       "       'Isabel', 'Hotel Employee', 'Hotel Manager', \"Pam's mom\",\n",
       "       'Tom Halpert', 'Pete Halpert', 'Tom and Pete', \"Pam's dad\",\n",
       "       'Grotti', 'Andy and Dwight', 'Credit card rep', 'Rep', 'Various',\n",
       "       'Keena Gifford', 'Helene', \"David Wallace's Secretary\",\n",
       "       'Voice on CD player', 'Limo Driver', 'Laurie', 'Registrar',\n",
       "       'Security', 'Woman in line', 'Man in line', 'Shareholder',\n",
       "       'Female Shareholder', 'Second Shareholder', 'Third Shareholder',\n",
       "       'Fourth Shareholder', \"O'Keefe\", 'Mikela', 'Students', 'Teacher',\n",
       "       'Lefevre', 'Zion', 'Deliveryman', 'Michael and Erin', 'Daryl',\n",
       "       'Office', 'Kelly and Erin', 'Matt', 'Computron', 'Fake Stanley',\n",
       "       'Gabe', 'Andy & Erin', 'Christian Slater', 'Jo Bennett', 'Jo',\n",
       "       'Jerry', 'Teddy Wallace', 'Mrs. Wallace', 'Teddy',\n",
       "       'Dwight, Jim and Michael', 'Policeman', 'Hospital employee',\n",
       "       \"(Pam's mom) Heleen\", 'Kathy', 'Dale', 'Clark', 'Isabelle', 'D',\n",
       "       'Warehouse guy 1', 'Warehouse guy 2', 'Reid',\n",
       "       'Night cleaning crew', 'Meredith, Creed, Oscar and Matt',\n",
       "       'Miichael', 'Julie', 'Hide', 'Bar Manager', 'Bouncer',\n",
       "       'Girl at table', 'Cookie Monster', 'Dwight.', \"Hayworth's waiter\",\n",
       "       \"Oscar's voice from the computer\", 'Donna', 'Michael and Donna',\n",
       "       'Mihael', 'Old lady', 'Glen', 'Gym Instructor', 'Gym instructor',\n",
       "       'Dwight and Angela', 'Shane', 'Reporter', 'Realtor', 'Luke',\n",
       "       'Window treatment guy', 'Angel', 'Salesman', 'Usher', 'Shelby',\n",
       "       'Sweeney Todd', 'Mexican Man', 'Son', 'Nate',\n",
       "       'Employees except Dwight', 'Astrid', 'Carroll', 'Carrol', 'Danny',\n",
       "       'Steve', 'Darryl and Andy', 'Church congregation', 'Pastor',\n",
       "       'Female church member', 'Male church member',\n",
       "       'Female church member [to Michael]', 'Doug [church member]',\n",
       "       'Doug', 'Mee-Maw', 'MeeMaw', 'Carla', \"Jim's Dad\", 'Bus driver',\n",
       "       'Michael and Andy', 'Another guy', 'Radio', 'Cece', 'TV',\n",
       "       'Meridith', 'Robotic Voice', 'Ryan and Michael', 'Phyliss',\n",
       "       'Dwight & Nate', 'Passer-by', 'Pam ', 'Bass Player', 'Justine',\n",
       "       'Jada', 'Robert', 'Darrly', 'Member', 'Video Michael',\n",
       "       'Bookstore employee', 'DJ', 'David Brent', 'Older guy',\n",
       "       'Phyllis, Stanley, Dwight', 'Younger Guy', 'Older Woman',\n",
       "       'Professor Powell', 'Ryan and Kelly', 'Helen', 'Attendant',\n",
       "       'Hot Dog Guy', 'Cell Phone Sales Person', 'Boom Box',\n",
       "       'Andy and Erin', \"Holly's Mom\", \"Holly's Dad\", 'Deangelo',\n",
       "       'Deangelo/Michael', 'Denagelo', \"Darryl's sister\", 'DeAngelo',\n",
       "       'Audience', 'Together', 'Erin and Kelly', 'abe', 'Rory',\n",
       "       'DeAgnelo', 'Jordan', 'Dwight [on phone]', 'Mose [on phone]',\n",
       "       'All but Oscar', 'Darryl and Angela', 'Fred Henry', 'Fred',\n",
       "       'Warren Buffett', 'Warren', 'Robert California', 'Merv Bronte',\n",
       "       'Merv', 'Nellie Bertram', 'Nellie', 'Finger Lakes Guy',\n",
       "       'Pam as fourth-biggest client', 'Pam as ninth-biggest client',\n",
       "       'Darryl & Oscar', 'Tattoo Artist', 'Female Applicant',\n",
       "       'Male Applicant 1', 'Male Applicant 2', 'Gideon', 'Bruce',\n",
       "       'Dwight, Erin, Jim & Kevin', 'Walter', 'Ellen', 'Walter Jr',\n",
       "       'Andy & Walter', 'Walter & Walter Jr', \"Erin's Cell Phone\", 'Bert',\n",
       "       'Gabe/Kelly/Toby', 'Andy/Pam', 'Andy/Stanley', 'Val',\n",
       "       'Warehouse Crew', 'Cathy', 'Offscreen', 'Curtis', 'Drummer',\n",
       "       'Pam and Kelly', 'Old Man', 'Andy and Darryl', 'Darryl and Kevin',\n",
       "       'Park Ranger', 'Chelsea', 'Archivist', 'Narrator', 'Soldier',\n",
       "       'Amanda', 'Susan', 'Andy/Oscar', \"Bob's Secretary\",\n",
       "       'Mrs. California', 'Host', 'Queerenstein Bears', \"Oscar's friend\",\n",
       "       'Stu', 'Stonewall Host', 'Meredith & Kelly', 'Einsteins',\n",
       "       'Senator Lipton', 'Ernesto', 'Officer Foley',\n",
       "       'Andy, Darryl & Officer Foley', 'Saleswoman', 'Emergency Operator',\n",
       "       'Paramedic', 'Donna Muraski', 'Wally Amos', 'Angela/Pam',\n",
       "       'Brandon', 'Blogger', 'Blogger 2', 'Lady Blogger', 'Patty',\n",
       "       'Old Lady', 'Others', 'Elderly Woman', 'Irene', 'Alonzo', 'Glenn',\n",
       "       'Erin and Irene', 'Kevin & Meredith', 'Lauren', 'Party guests',\n",
       "       'Magician', 'Ravi', 'Robert & Creed', 'Wrangler', 'Senator', 'Vet',\n",
       "       'Harry', 'Mr. Ramish', 'Calvin', 'Off-camera', 'Rafe', 'Fake Jim',\n",
       "       'Voicemail', 'Nellie and Pam',\n",
       "       'Group: Dunder Mifflin!\\nAndy: Andy Bernard presents: Summer Softball Epic Fails! [Kevin swings bat on screen, fart noise follows] Fail. [repeats] Fail',\n",
       "       '[repeats]\\nAndy: Fail',\n",
       "       \"[Clark and Pete are shown on screen]\\nVideo Andy: Hey, I'm Pete, puberty is such a drag, man. And I'm Clark! I like to eat toilet paper. [Clark and Pete wave at camera] We fail! [Video shows memorial of Jerry\",\n",
       "       'Phyllis, Kevin & Stanley', 'HCT', 'HCT Member #1',\n",
       "       'HCT Member #2', 'Broccoli Rob', 'Businessman #1',\n",
       "       'Businessman #2', 'Businessman #3', 'HCT Member #3', 'White',\n",
       "       'Boat Guy', 'Walt Jr.', 'Senator Liptop', 'Guys in breakroom',\n",
       "       'Business partner', 'Molly', 'Colin', 'Trevor', 'Julius Irving',\n",
       "       'New Instant Message', 'Suit Store Father', 'Athlead Employee',\n",
       "       'Dennis', 'Wade', 'Suit Store Son', 'Female Athlead Employee',\n",
       "       '3rd Athlead Employee', '4th Athlead Employee', 'Co-worker',\n",
       "       'Co-worker #2', 'Mr. Romanko', 'Dance Teacher', 'Ballerinas',\n",
       "       'Parent in Audience', 'Parent in audience #2',\n",
       "       'Parent in audience #1', 'Investor', 'Lonnie', 'Fast Food Worker',\n",
       "       'Drive Thru Customer', 'Brian', 'Cameraman', 'Rolf', 'Gabor',\n",
       "       'Zeke', 'Melvina', 'Wolf', 'Sensei Ira', 'Pam & Dwight', 'Frank',\n",
       "       'Party Announcer', 'Party Guest', 'Party Photographer',\n",
       "       'Party Waiter', 'Nail stylist 1', 'Nail stylist 2', 'Nail manager',\n",
       "       'Shirley', 'Athlead Coworker', 'Roger', 'Alice',\n",
       "       \"Oscar's Computer\", 'Jeb', 'German Minister', 'Fannie', 'Henry',\n",
       "       'Esther', 'Aunt Shirley', 'Cameron', 'Promo Voice', 'Ryan Howard',\n",
       "       'Mr. Ruger', 'Promo Announcer', 'Ruger Sister 1', 'Salesmen',\n",
       "       'Ruger Sister 2', 'Angela & Oscar', 'Reporter #1', 'Reporter #2',\n",
       "       'Mrs. Davis', 'Phillip', 'Carla Fern', 'Director', 'Producer',\n",
       "       'Bob Vance, Vance Refrigeration', 'Production Assistant', 'Sensei',\n",
       "       'Philip', 'Check-in guy', 'Casey', 'Mark McGrath', 'Jim & Dwight',\n",
       "       'Camera Crew', 'People in line', 'Santigold', 'Aaron Rodgers',\n",
       "       'Clay Aiken', 'CameraMan', 'Malcolm', 'Casey Dean', 'Bill Hader',\n",
       "       'Seth Mayers', 'Dakota', 'Stripper', 'Jakey', 'Man 1', 'Woman 1',\n",
       "       'Woman 2', 'Man 2', 'Moderator', 'Man 3', 'Woman 3', 'Woman 4',\n",
       "       'Joan', 'Minister', 'Carol Stills'], dtype=object)"
      ]
     },
     "execution_count": 168,
     "metadata": {},
     "output_type": "execute_result"
    }
   ],
   "source": [
    "df.speaker.unique()"
   ]
  },
  {
   "cell_type": "code",
   "execution_count": null,
   "metadata": {},
   "outputs": [],
   "source": []
  },
  {
   "cell_type": "markdown",
   "metadata": {},
   "source": [
    "# Data Cleaning\n",
    "\n",
    "### It looks like we have a few cases where the speaker and line_text were scrambled\n",
    "There is really no good way to trace this dataset back, and there are only a handfull of cases were this is a problem, so I think we are fine dropping the rows"
   ]
  },
  {
   "cell_type": "code",
   "execution_count": 178,
   "metadata": {},
   "outputs": [],
   "source": [
    "index = [53563, 53564, 53572]\n",
    "\n",
    "df.drop(index=index, inplace=True)"
   ]
  },
  {
   "cell_type": "code",
   "execution_count": 179,
   "metadata": {},
   "outputs": [],
   "source": [
    "df.to_csv('cleaned-data.csv', index=None)"
   ]
  },
  {
   "cell_type": "code",
   "execution_count": null,
   "metadata": {},
   "outputs": [],
   "source": []
  }
 ],
 "metadata": {
  "kernelspec": {
   "display_name": "Python 3",
   "language": "python",
   "name": "python3"
  },
  "language_info": {
   "codemirror_mode": {
    "name": "ipython",
    "version": 3
   },
   "file_extension": ".py",
   "mimetype": "text/x-python",
   "name": "python",
   "nbconvert_exporter": "python",
   "pygments_lexer": "ipython3",
   "version": "3.6.6"
  }
 },
 "nbformat": 4,
 "nbformat_minor": 2
}
